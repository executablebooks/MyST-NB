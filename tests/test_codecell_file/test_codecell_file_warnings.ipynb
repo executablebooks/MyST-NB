{
 "cells": [
  {
   "cell_type": "markdown",
   "id": "daa53dc3",
   "metadata": {},
   "source": [
    "# a title"
   ]
  },
  {
   "cell_type": "code",
   "execution_count": 1,
   "id": "d218bd29",
   "metadata": {
    "load": "mystnb_codecell_file.py"
   },
   "outputs": [],
   "source": [
    "# flake8: noqa\n",
    "\n",
    "import numpy as np"
   ]
  }
 ],
 "metadata": {
  "author": "Aakash",
  "jupytext": {
   "text_representation": {
    "extension": ".md",
    "format_name": "myst"
   }
  },
  "kernelspec": {
   "display_name": "Python 3",
   "language": "python",
   "name": "python3"
  },
  "language_info": {
   "codemirror_mode": {
    "name": "ipython",
    "version": 3
   },
   "file_extension": ".py",
   "mimetype": "text/x-python",
   "name": "python",
   "nbconvert_exporter": "python",
   "pygments_lexer": "ipython3",
   "version": "3.8.10"
  },
  "source_map": [
   11,
   15
  ]
 },
 "nbformat": 4,
 "nbformat_minor": 5
}

{
 "cells": [
  {
   "cell_type": "markdown",
   "id": "77fd61dd",
   "metadata": {},
   "source": [
    "# a title"
   ]
  },
  {
   "cell_type": "code",
   "execution_count": 1,
   "id": "2e32aa7d",
   "metadata": {
    "load": "mystnb_codecell_file.py"
   },
   "outputs": [],
   "source": [
    "# flake8: noqa\n",
    "\n",
    "import numpy as np"
   ]
  }
 ],
 "metadata": {
  "author": "Matt",
  "jupytext": {
   "text_representation": {
    "extension": ".md",
    "format_name": "myst"
   }
  },
  "kernelspec": {
   "display_name": "Python 3",
   "language": "python",
   "name": "python3"
  },
  "language_info": {
   "codemirror_mode": {
    "name": "ipython",
    "version": 3
   },
   "file_extension": ".py",
   "mimetype": "text/x-python",
   "name": "python",
   "nbconvert_exporter": "python",
   "pygments_lexer": "ipython3",
   "version": "3.8.10"
  },
  "source_map": [
   11,
   15
  ]
 },
 "nbformat": 4,
 "nbformat_minor": 5
}

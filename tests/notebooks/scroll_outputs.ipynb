{
 "cells": [
  {
   "cell_type": "markdown",
   "id": "356e9205",
   "metadata": {},
   "source": [
    "# Scroll long outputs"
   ]
  },
  {
   "cell_type": "code",
   "execution_count": 2,
   "id": "cd1b32ee",
   "metadata": {},
   "outputs": [
    {
     "name": "stdout",
     "output_type": "stream",
     "text": [
      "short output\n",
      "short output\n"
     ]
    }
   ],
   "source": [
    "for i in range(2):\n",
    "    print(\"short output\")"
   ]
  },
  {
   "cell_type": "code",
   "execution_count": 1,
   "id": "91a31d3f",
   "metadata": {},
   "outputs": [
    {
     "name": "stdout",
     "output_type": "stream",
     "text": [
      "long output\n",
      "long output\n",
      "long output\n",
      "long output\n",
      "long output\n",
      "long output\n",
      "long output\n",
      "long output\n",
      "long output\n",
      "long output\n",
      "long output\n",
      "long output\n",
      "long output\n",
      "long output\n",
      "long output\n",
      "long output\n",
      "long output\n",
      "long output\n",
      "long output\n",
      "long output\n",
      "long output\n",
      "long output\n",
      "long output\n",
      "long output\n",
      "long output\n",
      "long output\n",
      "long output\n",
      "long output\n",
      "long output\n",
      "long output\n",
      "long output\n",
      "long output\n",
      "long output\n",
      "long output\n",
      "long output\n",
      "long output\n",
      "long output\n",
      "long output\n",
      "long output\n",
      "long output\n",
      "long output\n",
      "long output\n",
      "long output\n",
      "long output\n",
      "long output\n",
      "long output\n",
      "long output\n",
      "long output\n",
      "long output\n",
      "long output\n",
      "long output\n",
      "long output\n",
      "long output\n",
      "long output\n",
      "long output\n",
      "long output\n",
      "long output\n",
      "long output\n",
      "long output\n",
      "long output\n",
      "long output\n",
      "long output\n",
      "long output\n",
      "long output\n",
      "long output\n",
      "long output\n",
      "long output\n",
      "long output\n",
      "long output\n",
      "long output\n",
      "long output\n",
      "long output\n",
      "long output\n",
      "long output\n",
      "long output\n",
      "long output\n",
      "long output\n",
      "long output\n",
      "long output\n",
      "long output\n",
      "long output\n",
      "long output\n",
      "long output\n",
      "long output\n",
      "long output\n",
      "long output\n",
      "long output\n",
      "long output\n",
      "long output\n",
      "long output\n",
      "long output\n",
      "long output\n",
      "long output\n",
      "long output\n",
      "long output\n",
      "long output\n",
      "long output\n",
      "long output\n",
      "long output\n",
      "long output\n"
     ]
    }
   ],
   "source": [
    "for i in range(100):\n",
    "    print(\"long output\")"
   ]
  }
 ],
 "metadata": {
  "kernelspec": {
   "display_name": "myst-nb-py311",
   "language": "python",
   "name": "python3"
  },
  "language_info": {
   "codemirror_mode": {
    "name": "ipython",
    "version": 3
   },
   "file_extension": ".py",
   "mimetype": "text/x-python",
   "name": "python",
   "nbconvert_exporter": "python",
   "pygments_lexer": "ipython3",
   "version": "3.11.13"
  }
 },
 "nbformat": 4,
 "nbformat_minor": 5
}

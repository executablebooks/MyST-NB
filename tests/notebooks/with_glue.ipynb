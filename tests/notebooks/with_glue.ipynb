{
 "cells": [
  {
   "cell_type": "markdown",
   "metadata": {},
   "source": [
    "# Glue Tests\n"
   ]
  },
  {
   "cell_type": "code",
   "execution_count": 1,
   "metadata": {},
   "outputs": [],
   "source": [
    "from myst_nb import glue"
   ]
  },
  {
   "cell_type": "code",
   "execution_count": 2,
   "metadata": {},
   "outputs": [
    {
     "data": {
      "text/plain": [
       "'text1'"
      ]
     },
     "metadata": {
      "scrapbook": {
       "mime_prefix": "",
       "name": "key_text1"
      }
     },
     "output_type": "display_data"
    },
    {
     "data": {
      "text/plain": [
       "3.14159"
      ]
     },
     "metadata": {
      "scrapbook": {
       "mime_prefix": "",
       "name": "key_float"
      }
     },
     "output_type": "display_data"
    }
   ],
   "source": [
    "glue(\"key_text1\", \"text1\")\n",
    "glue(\"key_float\", 3.14159)"
   ]
  },
  {
   "cell_type": "code",
   "execution_count": 3,
   "metadata": {},
   "outputs": [
    {
     "data": {
      "application/papermill.record/text/plain": "'undisplayed'"
     },
     "metadata": {
      "scrapbook": {
       "mime_prefix": "application/papermill.record/",
       "name": "key_undisplayed"
      }
     },
     "output_type": "display_data"
    }
   ],
   "source": [
    "glue(\"key_undisplayed\", \"undisplayed\", display=False)"
   ]
  },
  {
   "cell_type": "code",
   "execution_count": 4,
   "metadata": {
    "scrolled": true
   },
   "outputs": [
    {
     "data": {
      "text/html": [
       "<div>\n",
       "<style scoped>\n",
       "    .dataframe tbody tr th:only-of-type {\n",
       "        vertical-align: middle;\n",
       "    }\n",
       "\n",
       "    .dataframe tbody tr th {\n",
       "        vertical-align: top;\n",
       "    }\n",
       "\n",
       "    .dataframe thead th {\n",
       "        text-align: right;\n",
       "    }\n",
       "</style>\n",
       "<table border=\"1\" class=\"dataframe\">\n",
       "  <thead>\n",
       "    <tr style=\"text-align: right;\">\n",
       "      <th></th>\n",
       "      <th>header</th>\n",
       "    </tr>\n",
       "  </thead>\n",
       "  <tbody>\n",
       "    <tr>\n",
       "      <th>0</th>\n",
       "      <td>1</td>\n",
       "    </tr>\n",
       "    <tr>\n",
       "      <th>1</th>\n",
       "      <td>2</td>\n",
       "    </tr>\n",
       "    <tr>\n",
       "      <th>2</th>\n",
       "      <td>3</td>\n",
       "    </tr>\n",
       "  </tbody>\n",
       "</table>\n",
       "</div>"
      ],
      "text/plain": [
       "   header\n",
       "0       1\n",
       "1       2\n",
       "2       3"
      ]
     },
     "metadata": {
      "scrapbook": {
       "mime_prefix": "",
       "name": "key_df"
      }
     },
     "output_type": "display_data"
    }
   ],
   "source": [
    "import pandas as pd\n",
    "\n",
    "df = pd.DataFrame({\"header\": [1, 2, 3]})\n",
    "glue(\"key_df\", df)"
   ]
  },
  {
   "cell_type": "code",
   "execution_count": 5,
   "metadata": {},
   "outputs": [
    {
     "data": {
      "application/papermill.record/image/png": "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\n",
      "application/papermill.record/text/plain": "<Figure size 432x288 with 1 Axes>"
     },
     "metadata": {
      "scrapbook": {
       "mime_prefix": "application/papermill.record/",
       "name": "key_plt"
      }
     },
     "output_type": "display_data"
    },
    {
     "data": {
      "image/png": "[encoded data removed]",
      "text/plain": [
       "<Figure size 432x288 with 1 Axes>"
      ]
     },
     "metadata": {
      "needs_background": "light"
     },
     "output_type": "display_data"
    }
   ],
   "source": [
    "import matplotlib.pyplot as plt\n",
    "\n",
    "plt.plot([1, 2, 3])\n",
    "glue(\"key_plt\", plt.gcf(), display=False)"
   ]
  },
  {
   "cell_type": "markdown",
   "metadata": {},
   "source": [
    "## Referencing the figs\n",
    "\n",
    "{glue:any}`key_text1`, {glue:}`key_plt`\n",
    "\n",
    "```{glue:any} key_df\n",
    "```\n",
    "\n",
    "and {glue:text}`key_text1` inline...\n",
    "\n",
    "and formatted {glue:text}`key_float:.2f`\n",
    "\n",
    "```{glue:} key_plt\n",
    "```\n",
    "\n",
    "and {glue:text}`key_undisplayed` inline...\n",
    "\n",
    "\n",
    "```{glue:figure} key_plt\n",
    ":name: abc\n",
    "\n",
    "A caption....\n",
    "```",
    "## A test title {glue:any}`key_text1`\n",
    "\n"
   ]
  },
  {
   "cell_type": "markdown",
   "metadata": {},
   "source": [
    "## Math"
   ]
  },
  {
   "cell_type": "code",
   "execution_count": 6,
   "metadata": {},
   "outputs": [
    {
     "data": {
      "text/latex": [
       "$\\displaystyle \\left(\\sqrt{5} i\\right)^{\\alpha} \\left(\\frac{1}{2} - \\frac{2 \\sqrt{5} i}{5}\\right) + \\left(- \\sqrt{5} i\\right)^{\\alpha} \\left(\\frac{1}{2} + \\frac{2 \\sqrt{5} i}{5}\\right)$"
      ],
      "text/plain": [
       "(sqrt(5)*I)**\\alpha*(1/2 - 2*sqrt(5)*I/5) + (-sqrt(5)*I)**\\alpha*(1/2 + 2*sqrt(5)*I/5)"
      ]
     },
     "metadata": {
      "scrapbook": {
       "mime_prefix": "",
       "name": "sym_eq"
      }
     },
     "output_type": "display_data"
    }
   ],
   "source": [
    "import sympy as sym\n",
    "\n",
    "f = sym.Function(\"f\")\n",
    "y = sym.Function(\"y\")\n",
    "n = sym.symbols(r\"\\alpha\")\n",
    "f = y(n) - 2 * y(n - 1 / sym.pi) - 5 * y(n - 2)\n",
    "glue(\"sym_eq\", sym.rsolve(f, y(n), [1, 4]))"
   ]
  },
  {
   "cell_type": "markdown",
   "metadata": {},
   "source": [
    "```{glue:math} sym_eq\n",
    ":label: eq-sym\n",
    "```"
   ]
  }
 ],
 "metadata": {
  "kernelspec": {
   "display_name": "Python 3",
   "language": "python",
   "name": "python3"
  },
  "language_info": {
   "codemirror_mode": {
    "name": "ipython",
    "version": 3
   },
   "file_extension": ".py",
   "mimetype": "text/x-python",
   "name": "python",
   "nbconvert_exporter": "python",
   "pygments_lexer": "ipython3",
   "version": "3.7.6"
  },
  "test_name": "notebook1"
 },
 "nbformat": 4,
 "nbformat_minor": 2
}

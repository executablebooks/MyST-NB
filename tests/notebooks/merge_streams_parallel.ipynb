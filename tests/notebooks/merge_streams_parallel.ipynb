{
  "cells": [
   {
    "cell_type": "code",
    "execution_count": 1,
    "metadata": {
     "execution": {
      "iopub.execute_input": "2024-09-19T21:44:29.809012Z",
      "iopub.status.busy": "2024-09-19T21:44:29.808809Z",
      "iopub.status.idle": "2024-09-19T21:44:29.978481Z",
      "shell.execute_reply": "2024-09-19T21:44:29.977891Z"
     }
    },
    "outputs": [
     {
      "name": "stdout",
      "output_type": "stream",
      "text": [
       "0"
      ]
     },
     {
      "name": "stdout",
      "output_type": "stream",
      "text": [
       "0"
      ]
     },
     {
      "name": "stdout",
      "output_type": "stream",
      "text": [
       "0"
      ]
     },
     {
      "name": "stdout",
      "output_type": "stream",
      "text": [
       "0"
      ]
     },
     {
      "name": "stdout",
      "output_type": "stream",
      "text": [
       "0"
      ]
     },
     {
      "name": "stdout",
      "output_type": "stream",
      "text": [
       "0"
      ]
     },
     {
      "name": "stdout",
      "output_type": "stream",
      "text": [
       "0"
      ]
     },
     {
      "name": "stdout",
      "output_type": "stream",
      "text": [
       "0"
      ]
     },
     {
      "name": "stdout",
      "output_type": "stream",
      "text": [
       "0"
      ]
     },
     {
      "name": "stdout",
      "output_type": "stream",
      "text": [
       "\n"
      ]
     },
     {
      "name": "stdout",
      "output_type": "stream",
      "text": [
       "0"
      ]
     },
     {
      "name": "stdout",
      "output_type": "stream",
      "text": [
       "\n"
      ]
     },
     {
      "name": "stdout",
      "output_type": "stream",
      "text": [
       "\n"
      ]
     },
     {
      "name": "stdout",
      "output_type": "stream",
      "text": [
       "\n"
      ]
     },
     {
      "name": "stdout",
      "output_type": "stream",
      "text": [
       "\n"
      ]
     },
     {
      "name": "stdout",
      "output_type": "stream",
      "text": [
       "\n"
      ]
     },
     {
      "name": "stdout",
      "output_type": "stream",
      "text": [
       "\n"
      ]
     },
     {
      "name": "stdout",
      "output_type": "stream",
      "text": [
       "\n"
      ]
     },
     {
      "name": "stdout",
      "output_type": "stream",
      "text": [
       "\n"
      ]
     },
     {
      "name": "stdout",
      "output_type": "stream",
      "text": [
       "\n"
      ]
     }
    ],
    "source": [
     "from concurrent.futures import ProcessPoolExecutor\n",
     "\n",
     "with ProcessPoolExecutor() as executor:\n",
     "    for i in executor.map(print, [0] * 10):\n",
     "        pass"
    ]
   }
  ],
  "metadata": {
   "kernelspec": {
    "display_name": "Python 3",
    "language": "python",
    "name": "python3"
   },
   "language_info": {
    "codemirror_mode": {
     "name": "ipython",
     "version": 3
    },
    "file_extension": ".py",
    "mimetype": "text/x-python",
    "name": "python",
    "nbconvert_exporter": "python",
    "pygments_lexer": "ipython3",
    "version": "3.12.3"
   }
  },
  "nbformat": 4,
  "nbformat_minor": 4
 }

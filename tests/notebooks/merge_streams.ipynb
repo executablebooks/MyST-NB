{
 "cells": [
  {
   "cell_type": "code",
   "execution_count": 1,
   "metadata": {},
   "outputs": [
    {
     "name": "stdout",
     "output_type": "stream",
     "text": [
      "stdout1\n",
      "stdout2\n"
     ]
    },
    {
     "name": "stderr",
     "output_type": "stream",
     "text": [
      "stderr1\n",
      "stderr2\n"
     ]
    },
    {
     "name": "stdout",
     "output_type": "stream",
     "text": [
      "stdout3\n"
     ]
    },
    {
     "name": "stderr",
     "output_type": "stream",
     "text": [
      "stderr3\n"
     ]
    },
    {
     "data": {
      "text/plain": [
       "1"
      ]
     },
     "execution_count": 1,
     "metadata": {},
     "output_type": "execute_result"
    }
   ],
   "source": [
    "import sys\n",
    "\n",
    "print(\"stdout1\", file=sys.stdout)\n",
    "print(\"stdout2\", file=sys.stdout)\n",
    "print(\"stderr1\", file=sys.stderr)\n",
    "print(\"stderr2\", file=sys.stderr)\n",
    "print(\"stdout3\", file=sys.stdout)\n",
    "print(\"stderr3\", file=sys.stderr)\n",
    "1"
   ]
  }
 ],
 "metadata": {
  "kernelspec": {
   "display_name": "Python 3",
   "language": "python",
   "name": "python3"
  },
  "language_info": {
   "codemirror_mode": {
    "name": "ipython",
    "version": 3
   },
   "file_extension": ".py",
   "mimetype": "text/x-python",
   "name": "python",
   "nbconvert_exporter": "python",
   "pygments_lexer": "ipython3",
   "version": "3.6.1"
  }
 },
 "nbformat": 4,
 "nbformat_minor": 2
}

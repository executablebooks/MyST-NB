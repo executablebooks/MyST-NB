{
 "cells": [
  {
   "cell_type": "markdown",
   "id": "f1b10cf9",
   "metadata": {},
   "source": [
    "# a title\n",
    "\n",
    "this was created using `jupytext --to myst tests/notebooks/basic_unrun.ipynb`"
   ]
  },
  {
   "cell_type": "code",
   "execution_count": null,
   "id": "9daa25c2",
   "metadata": {},
   "outputs": [],
   "source": [
    "a = 1\n",
    "print(a)"
   ]
  }
 ],
 "metadata": {
  "author": "Chris",
  "jupytext": {
   "text_representation": {
    "extension": ".md",
    "format_name": "myst",
    "format_version": "0.8",
    "jupytext_version": "1.4.1+dev"
   }
  },
  "kernelspec": {
   "display_name": "Python 3",
   "language": "python",
   "name": "python3"
  },
  "source_map": [
   13,
   19
  ]
 },
 "nbformat": 4,
 "nbformat_minor": 5
}

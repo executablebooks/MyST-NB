{
 "cells": [
  {
   "cell_type": "markdown",
   "id": "f0dc5a7d",
   "metadata": {},
   "source": [
    "# a title\n",
    "\n",
    "this was created using `jupytext --to myst tests/notebooks/basic_unrun.ipynb`"
   ]
  },
  {
   "cell_type": "code",
   "execution_count": 1,
   "id": "49a06520",
   "metadata": {},
   "outputs": [
    {
     "name": "stdout",
     "output_type": "stream",
     "text": [
      "1\n"
     ]
    }
   ],
   "source": [
    "a = 1\n",
    "print(a)"
   ]
  }
 ],
 "metadata": {
  "author": "Chris",
  "jupytext": {
   "text_representation": {
    "extension": ".md",
    "format_name": "myst",
    "format_version": "0.8",
    "jupytext_version": "1.4.1+dev"
   }
  },
  "kernelspec": {
   "display_name": "Python 3",
   "language": "python",
   "name": "python3"
  },
  "language_info": {
   "codemirror_mode": {
    "name": "ipython",
    "version": 3
   },
   "file_extension": ".py",
   "mimetype": "text/x-python",
   "name": "python",
   "nbconvert_exporter": "python",
   "pygments_lexer": "ipython3",
   "version": "3.8.10"
  },
  "source_map": [
   13,
   19
  ]
 },
 "nbformat": 4,
 "nbformat_minor": 5
}
